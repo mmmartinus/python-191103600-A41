{
 "cells": [
  {
   "cell_type": "code",
   "execution_count": 6,
   "metadata": {},
   "outputs": [],
   "source": [
    "class polygon:\n",
    "    def __int__(self, jumlah_sisi):\n",
    "        self.n = no_of_sides\n",
    "        self.sides = [0 for i in range(jumlah_sisi)]\n",
    "        \n",
    "    def inputSides(self):\n",
    "        self.sides = [float(input(\"masukan sisi \"+str(i+1)+\" : \")) for i in range(self.n)]\n",
    "        \n",
    "    def dispSides(self):\n",
    "        for i in range(self.n):\n",
    "            print(\"sisi\",i+1,\"adalah\",self.sides[i])"
   ]
  },
  {
   "cell_type": "code",
   "execution_count": 10,
   "metadata": {},
   "outputs": [],
   "source": [
    "class triangle(polygon):\n",
    "    def __init__(self):\n",
    "        polygon.__init__(self,3)\n",
    "    def findArea(self):\n",
    "        a, b, c = self.sides\n",
    "        # hitung keliling\n",
    "        s = (a + b + c) / 2\n",
    "        area = (s*(s-a)*(s-b)*(s-c)) ** 0.5\n",
    "        print('luas segitiga adalah %0.2f' %area)"
   ]
  },
  {
   "cell_type": "code",
   "execution_count": 11,
   "metadata": {},
   "outputs": [
    {
     "name": "stdout",
     "output_type": "stream",
     "text": [
      "driving\n"
     ]
    }
   ],
   "source": [
    "class car:\n",
    "    def __in(self):\n",
    "        self.__updatesofware()\n",
    "    \n",
    "    def drive(self):\n",
    "        print('driving')\n",
    "        \n",
    "    def __updatesofware(self):\n",
    "        print('updating sofware')\n",
    "        \n",
    "redcar = car()\n",
    "redcar.drive()"
   ]
  },
  {
   "cell_type": "code",
   "execution_count": 12,
   "metadata": {},
   "outputs": [
    {
     "name": "stdout",
     "output_type": "stream",
     "text": [
      "driving. maxspeed 0\n",
      "driving. maxspeed 0\n"
     ]
    }
   ],
   "source": [
    "class Car:\n",
    "    __maxspeed = 0\n",
    "    __name = \"\"\n",
    "    \n",
    "    def _init_(self):\n",
    "        self.__maxspeed = 200\n",
    "        self.__name = \"Supercar\"\n",
    "        \n",
    "    def drive(self):\n",
    "        print('driving. maxspeed ' + str(self.__maxspeed))\n",
    "        \n",
    "redcar = Car()\n",
    "redcar.drive()\n",
    "redcar.__maxspeed = 10 #tidak akan berubah karena private\n",
    "redcar.drive()"
   ]
  },
  {
   "cell_type": "code",
   "execution_count": 13,
   "metadata": {},
   "outputs": [
    {
     "name": "stdout",
     "output_type": "stream",
     "text": [
      "driving. maxspeed 0\n",
      "driving. maxspeed 320\n"
     ]
    }
   ],
   "source": [
    "class Car:\n",
    "    __maxspeed = 0\n",
    "    __name = \"\"\n",
    "    \n",
    "    def _init_(self):\n",
    "        self.__maxspeed = 200\n",
    "        self.__name = \"Supercar\"\n",
    "        \n",
    "    def drive(self):\n",
    "        print('driving. maxspeed ' + str(self.__maxspeed))\n",
    "        \n",
    "    def setMaxSpeed(self,speed):\n",
    "        self.__maxspeed = speed\n",
    "        \n",
    "redcar = Car()\n",
    "redcar.drive()\n",
    "redcar.setMaxSpeed(320)\n",
    "redcar.drive()"
   ]
  },
  {
   "cell_type": "code",
   "execution_count": 14,
   "metadata": {},
   "outputs": [
    {
     "name": "stdout",
     "output_type": "stream",
     "text": [
      "Kerangka hiu terbuat dari tulang rawan. \n",
      "Kerangka ikan badut terbuat dari tulang. \n"
     ]
    }
   ],
   "source": [
    "class Shark():\n",
    "    def swim(self):\n",
    "        print(\"Hiu sedang berenang. \")\n",
    "        \n",
    "    def swim_backwards(self):\n",
    "        print(\"Hiu tidak bisa berenang mundur, tetapi bisa tenggelam ke belakang. \")\n",
    "        \n",
    "    def skeleton(self):\n",
    "        print(\"Kerangka hiu terbuat dari tulang rawan. \")\n",
    "        \n",
    "class Clownfish():\n",
    "    def swim(self):\n",
    "        print(\"Ikan badut sedang berenang. \")\n",
    "        \n",
    "    def swim_backwards(self):\n",
    "        print(\"Ikan badut tidak bisa berenang mundur. \")\n",
    "        \n",
    "    def skeleton(self):\n",
    "        print(\"Kerangka ikan badut terbuat dari tulang. \")\n",
    "        \n",
    "sammy = Shark()\n",
    "sammy.skeleton()\n",
    "\n",
    "casey = Clownfish()\n",
    "casey.skeleton()"
   ]
  },
  {
   "cell_type": "code",
   "execution_count": 15,
   "metadata": {},
   "outputs": [
    {
     "name": "stdout",
     "output_type": "stream",
     "text": [
      "Hiu sedang berenang. \n",
      "Ikan badut sedang berenang. \n"
     ]
    }
   ],
   "source": [
    "class Shark():\n",
    "    def swim(self):\n",
    "        print(\"Hiu sedang berenang. \")\n",
    "        \n",
    "    def swim_backwards(self):\n",
    "        print(\"Hiu tidak bisa berenang mundur, tetapi bisa tenggelam ke belakang. \")\n",
    "        \n",
    "    def skeleton(self):\n",
    "        print(\"Kerangka hiu terbuat dari tulang rawan. \")\n",
    "        \n",
    "class Clownfish():\n",
    "    def swim(self):\n",
    "        print(\"Ikan badut sedang berenang. \")\n",
    "        \n",
    "    def swim_backwards(self):\n",
    "        print(\"Ikan badut tidak bisa berenang mundur. \")\n",
    "        \n",
    "    def skeleton(self):\n",
    "        print(\"Kerangka ikan badut terbuat dari tulang. \")\n",
    "        \n",
    "def in_the_pacific(fish):\n",
    "    fish.swim()\n",
    "    \n",
    "sammy = Shark()\n",
    "casey = Clownfish()\n",
    "\n",
    "in_the_pacific(sammy)\n",
    "in_the_pacific(casey)"
   ]
  },
  {
   "cell_type": "code",
   "execution_count": null,
   "metadata": {},
   "outputs": [],
   "source": []
  }
 ],
 "metadata": {
  "kernelspec": {
   "display_name": "Python 3",
   "language": "python",
   "name": "python3"
  },
  "language_info": {
   "codemirror_mode": {
    "name": "ipython",
    "version": 3
   },
   "file_extension": ".py",
   "mimetype": "text/x-python",
   "name": "python",
   "nbconvert_exporter": "python",
   "pygments_lexer": "ipython3",
   "version": "3.8.5"
  }
 },
 "nbformat": 4,
 "nbformat_minor": 4
}
